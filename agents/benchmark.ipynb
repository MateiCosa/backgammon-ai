{
 "cells": [
  {
   "cell_type": "code",
   "execution_count": 19,
   "metadata": {},
   "outputs": [
    {
     "data": {
      "text/plain": [
       "<module 'eval' from '/Users/mateicosa/Bocconi/AI/Year_1/Software/project/agents/eval.py'>"
      ]
     },
     "execution_count": 19,
     "metadata": {},
     "output_type": "execute_result"
    }
   ],
   "source": [
    "from importlib import reload\n",
    "\n",
    "import gym\n",
    "import eval \n",
    "from gym_backgammon.envs.backgammon import WHITE, BLACK\n",
    "reload(eval)"
   ]
  },
  {
   "cell_type": "code",
   "execution_count": 14,
   "metadata": {},
   "outputs": [
    {
     "name": "stderr",
     "output_type": "stream",
     "text": [
      "/Users/mateicosa/Bocconi/AI/Year_1/Software/project/bgenv/lib/python3.11/site-packages/gym/spaces/box.py:127: UserWarning: \u001b[33mWARN: Box bound precision lowered by casting to float32\u001b[0m\n",
      "  logger.warn(f\"Box bound precision lowered by casting to {self.dtype}\")\n"
     ]
    }
   ],
   "source": [
    "env = gym.make('gym_backgammon:backgammon-v0', disable_env_checker=True) # initialize environment"
   ]
  },
  {
   "cell_type": "code",
   "execution_count": 20,
   "metadata": {},
   "outputs": [
    {
     "ename": "TypeError",
     "evalue": "TDAgent.__init__() got an unexpected keyword argument 'train'",
     "output_type": "error",
     "traceback": [
      "\u001b[0;31m---------------------------------------------------------------------------\u001b[0m",
      "\u001b[0;31mTypeError\u001b[0m                                 Traceback (most recent call last)",
      "Cell \u001b[0;32mIn[20], line 1\u001b[0m\n\u001b[0;32m----> 1\u001b[0m score \u001b[38;5;241m=\u001b[39m \u001b[38;5;28;43meval\u001b[39;49m\u001b[38;5;241;43m.\u001b[39;49m\u001b[43mcompare_models\u001b[49m\u001b[43m(\u001b[49m\u001b[43mmodel1_path\u001b[49m\u001b[38;5;241;43m=\u001b[39;49m\u001b[38;5;124;43m\"\u001b[39;49m\u001b[38;5;124;43m/trained_models/v1/v1_20250101_0329_20_551791_150000.zip\u001b[39;49m\u001b[38;5;124;43m\"\u001b[39;49m\u001b[43m,\u001b[49m\n\u001b[1;32m      2\u001b[0m \u001b[43m               \u001b[49m\u001b[43mmodel2_path\u001b[49m\u001b[38;5;241;43m=\u001b[39;49m\u001b[38;5;124;43m\"\u001b[39;49m\u001b[38;5;124;43m/trained_models/v0/v0_20241224_2034_54_350209_150000.zip\u001b[39;49m\u001b[38;5;124;43m\"\u001b[39;49m\u001b[43m,\u001b[49m\n\u001b[1;32m      3\u001b[0m \u001b[43m               \u001b[49m\u001b[43mmodel1_n_ply\u001b[49m\u001b[38;5;241;43m=\u001b[39;49m\u001b[38;5;241;43m2\u001b[39;49m\u001b[43m,\u001b[49m\n\u001b[1;32m      4\u001b[0m \u001b[43m               \u001b[49m\u001b[43menv\u001b[49m\u001b[38;5;241;43m=\u001b[39;49m\u001b[43menv\u001b[49m\u001b[43m,\u001b[49m\u001b[43m \u001b[49m\u001b[43mn_episodes\u001b[49m\u001b[38;5;241;43m=\u001b[39;49m\u001b[38;5;241;43m500\u001b[39;49m\u001b[43m)\u001b[49m\n",
      "File \u001b[0;32m~/Bocconi/AI/Year_1/Software/project/agents/eval.py:85\u001b[0m, in \u001b[0;36mcompare_models\u001b[0;34m(model1_path, model2_path, env, n_episodes, model1_n_ply, model2_n_ply, model1_hidden_units, model2_hidden_units)\u001b[0m\n\u001b[1;32m     82\u001b[0m model2 \u001b[38;5;241m=\u001b[39m TDGammon(hidden_units\u001b[38;5;241m=\u001b[39mmodel2_hidden_units, lr\u001b[38;5;241m=\u001b[39m\u001b[38;5;241m0.1\u001b[39m, lambda_\u001b[38;5;241m=\u001b[39m\u001b[38;5;241m0.7\u001b[39m) \u001b[38;5;66;03m# initialize model\u001b[39;00m\n\u001b[1;32m     83\u001b[0m model2\u001b[38;5;241m.\u001b[39mload(snapshot_path\u001b[38;5;241m=\u001b[39mCWD\u001b[38;5;241m+\u001b[39mmodel2_path) \u001b[38;5;66;03m# load the weights\u001b[39;00m\n\u001b[0;32m---> 85\u001b[0m agents \u001b[38;5;241m=\u001b[39m {BLACK: \u001b[43mTDAgent\u001b[49m\u001b[43m(\u001b[49m\u001b[43mBLACK\u001b[49m\u001b[43m,\u001b[49m\u001b[43m \u001b[49m\u001b[43mmodel\u001b[49m\u001b[38;5;241;43m=\u001b[39;49m\u001b[43mmodel1\u001b[49m\u001b[43m,\u001b[49m\u001b[43m \u001b[49m\u001b[43mn_ply\u001b[49m\u001b[38;5;241;43m=\u001b[39;49m\u001b[43mmodel1_n_ply\u001b[49m\u001b[43m,\u001b[49m\u001b[43m \u001b[49m\u001b[43mtrain\u001b[49m\u001b[38;5;241;43m=\u001b[39;49m\u001b[38;5;28;43;01mFalse\u001b[39;49;00m\u001b[43m)\u001b[49m, WHITE: TDAgent(WHITE, model\u001b[38;5;241m=\u001b[39mmodel2, n_ply\u001b[38;5;241m=\u001b[39mmodel2_n_ply, train\u001b[38;5;241m=\u001b[39m\u001b[38;5;28;01mFalse\u001b[39;00m)}\n\u001b[1;32m     87\u001b[0m score \u001b[38;5;241m=\u001b[39m evaluate_agents(agents\u001b[38;5;241m=\u001b[39magents, env\u001b[38;5;241m=\u001b[39menv, n_episodes\u001b[38;5;241m=\u001b[39mn_episodes)\n\u001b[1;32m     89\u001b[0m \u001b[38;5;28;01mreturn\u001b[39;00m score\n",
      "\u001b[0;31mTypeError\u001b[0m: TDAgent.__init__() got an unexpected keyword argument 'train'"
     ]
    }
   ],
   "source": [
    "score = eval.compare_models(model1_path=\"/trained_models/v1/v1_20250101_0329_20_551791_150000.zip\",\n",
    "               model2_path=\"/trained_models/v0/v0_20241224_2034_54_350209_150000.zip\",\n",
    "               model1_n_ply=2,\n",
    "               env=env, n_episodes=500)"
   ]
  }
 ],
 "metadata": {
  "kernelspec": {
   "display_name": "bgenv",
   "language": "python",
   "name": "python3"
  },
  "language_info": {
   "codemirror_mode": {
    "name": "ipython",
    "version": 3
   },
   "file_extension": ".py",
   "mimetype": "text/x-python",
   "name": "python",
   "nbconvert_exporter": "python",
   "pygments_lexer": "ipython3",
   "version": "3.11.5"
  }
 },
 "nbformat": 4,
 "nbformat_minor": 2
}
